{
 "cells": [
  {
   "cell_type": "code",
   "execution_count": null,
   "metadata": {},
   "outputs": [],
   "source": []
  },
  {
   "cell_type": "code",
   "execution_count": 2,
   "metadata": {},
   "outputs": [],
   "source": [
    "%matplotlib inline\n",
    "\n",
    "import numpy as np\n",
    "import pandas as pd\n",
    "\n",
    "import datetime\n",
    "\n",
    "import matplotlib.pyplot as plt\n",
    "\n",
    "import warnings\n",
    "warnings.filterwarnings(\"ignore\")"
   ]
  },
  {
   "cell_type": "code",
   "execution_count": 3,
   "metadata": {},
   "outputs": [
    {
     "name": "stdout",
     "output_type": "stream",
     "text": [
      "(3117, 2)\n"
     ]
    },
    {
     "data": {
      "text/html": [
       "<div>\n",
       "<style scoped>\n",
       "    .dataframe tbody tr th:only-of-type {\n",
       "        vertical-align: middle;\n",
       "    }\n",
       "\n",
       "    .dataframe tbody tr th {\n",
       "        vertical-align: top;\n",
       "    }\n",
       "\n",
       "    .dataframe thead th {\n",
       "        text-align: right;\n",
       "    }\n",
       "</style>\n",
       "<table border=\"1\" class=\"dataframe\">\n",
       "  <thead>\n",
       "    <tr style=\"text-align: right;\">\n",
       "      <th></th>\n",
       "      <th>unix_time</th>\n",
       "      <th>sensor_data</th>\n",
       "    </tr>\n",
       "  </thead>\n",
       "  <tbody>\n",
       "    <tr>\n",
       "      <th>0</th>\n",
       "      <td>1.682921e+09</td>\n",
       "      <td>0,0.000000,0.000000,0.000000,0.000000,0.000000...</td>\n",
       "    </tr>\n",
       "    <tr>\n",
       "      <th>1</th>\n",
       "      <td>1.682921e+09</td>\n",
       "      <td>5,0.071777,-0.055786,0.996338,-1.770020,-2.929...</td>\n",
       "    </tr>\n",
       "    <tr>\n",
       "      <th>2</th>\n",
       "      <td>1.682921e+09</td>\n",
       "      <td>11,0.073242,-0.054810,0.996094,0.061035,-0.183...</td>\n",
       "    </tr>\n",
       "  </tbody>\n",
       "</table>\n",
       "</div>"
      ],
      "text/plain": [
       "      unix_time                                        sensor_data\n",
       "0  1.682921e+09  0,0.000000,0.000000,0.000000,0.000000,0.000000...\n",
       "1  1.682921e+09  5,0.071777,-0.055786,0.996338,-1.770020,-2.929...\n",
       "2  1.682921e+09  11,0.073242,-0.054810,0.996094,0.061035,-0.183..."
      ]
     },
     "metadata": {},
     "output_type": "display_data"
    }
   ],
   "source": [
    "# data_file = '1_deployed_stateOff.csv'\n",
    "data_file = '2_deployed_stateStartUp.csv'\n",
    "\n",
    "df = pd.read_csv('./data_ArduinoNano_raw/' + data_file,\n",
    "                header=None)\n",
    "\n",
    "df.columns = ['unix_time', 'sensor_data']\n",
    "\n",
    "print(df.shape)\n",
    "display(df.head(3))"
   ]
  },
  {
   "cell_type": "code",
   "execution_count": 4,
   "metadata": {},
   "outputs": [],
   "source": [
    "#df['datetime'] = pd.to_datetime(df['unix_datetime'])\n",
    "\n",
    "df['datetime'] = np.nan\n",
    "for i in range(0, df.shape[0]):\n",
    "    df['datetime'][i] = datetime.datetime.fromtimestamp(df['unix_time'][i])\n",
    "    \n",
    "df = df[['datetime', 'unix_time','sensor_data']]\n",
    "\n",
    "df = df.sort_values(by='datetime')\n",
    "df = df.reset_index(drop=True)"
   ]
  },
  {
   "cell_type": "code",
   "execution_count": 5,
   "metadata": {
    "scrolled": true
   },
   "outputs": [
    {
     "data": {
      "text/html": [
       "<div>\n",
       "<style scoped>\n",
       "    .dataframe tbody tr th:only-of-type {\n",
       "        vertical-align: middle;\n",
       "    }\n",
       "\n",
       "    .dataframe tbody tr th {\n",
       "        vertical-align: top;\n",
       "    }\n",
       "\n",
       "    .dataframe thead th {\n",
       "        text-align: right;\n",
       "    }\n",
       "</style>\n",
       "<table border=\"1\" class=\"dataframe\">\n",
       "  <thead>\n",
       "    <tr style=\"text-align: right;\">\n",
       "      <th></th>\n",
       "      <th>datetime</th>\n",
       "      <th>unix_time</th>\n",
       "      <th>sensor_data</th>\n",
       "    </tr>\n",
       "  </thead>\n",
       "  <tbody>\n",
       "    <tr>\n",
       "      <th>0</th>\n",
       "      <td>2023-04-30 23:07:05.236017</td>\n",
       "      <td>1.682921e+09</td>\n",
       "      <td>0,0.000000,0.000000,0.000000,0.000000,0.000000...</td>\n",
       "    </tr>\n",
       "    <tr>\n",
       "      <th>1</th>\n",
       "      <td>2023-04-30 23:07:05.265454</td>\n",
       "      <td>1.682921e+09</td>\n",
       "      <td>5,0.071777,-0.055786,0.996338,-1.770020,-2.929...</td>\n",
       "    </tr>\n",
       "    <tr>\n",
       "      <th>2</th>\n",
       "      <td>2023-04-30 23:07:05.283522</td>\n",
       "      <td>1.682921e+09</td>\n",
       "      <td>11,0.073242,-0.054810,0.996094,0.061035,-0.183...</td>\n",
       "    </tr>\n",
       "  </tbody>\n",
       "</table>\n",
       "</div>"
      ],
      "text/plain": [
       "                     datetime     unix_time  \\\n",
       "0  2023-04-30 23:07:05.236017  1.682921e+09   \n",
       "1  2023-04-30 23:07:05.265454  1.682921e+09   \n",
       "2  2023-04-30 23:07:05.283522  1.682921e+09   \n",
       "\n",
       "                                         sensor_data  \n",
       "0  0,0.000000,0.000000,0.000000,0.000000,0.000000...  \n",
       "1  5,0.071777,-0.055786,0.996338,-1.770020,-2.929...  \n",
       "2  11,0.073242,-0.054810,0.996094,0.061035,-0.183...  "
      ]
     },
     "metadata": {},
     "output_type": "display_data"
    },
    {
     "data": {
      "text/html": [
       "<div>\n",
       "<style scoped>\n",
       "    .dataframe tbody tr th:only-of-type {\n",
       "        vertical-align: middle;\n",
       "    }\n",
       "\n",
       "    .dataframe tbody tr th {\n",
       "        vertical-align: top;\n",
       "    }\n",
       "\n",
       "    .dataframe thead th {\n",
       "        text-align: right;\n",
       "    }\n",
       "</style>\n",
       "<table border=\"1\" class=\"dataframe\">\n",
       "  <thead>\n",
       "    <tr style=\"text-align: right;\">\n",
       "      <th></th>\n",
       "      <th>datetime</th>\n",
       "      <th>unix_time</th>\n",
       "      <th>sensor_data</th>\n",
       "    </tr>\n",
       "  </thead>\n",
       "  <tbody>\n",
       "    <tr>\n",
       "      <th>3114</th>\n",
       "      <td>2023-04-30 23:08:41.681081</td>\n",
       "      <td>1.682921e+09</td>\n",
       "      <td>10,0.085327,-0.047974,1.003052,0.488281,0.3051...</td>\n",
       "    </tr>\n",
       "    <tr>\n",
       "      <th>3115</th>\n",
       "      <td>2023-04-30 23:08:41.705375</td>\n",
       "      <td>1.682921e+09</td>\n",
       "      <td>12,0.084717,-0.048828,1.003418,0.549316,0.0610...</td>\n",
       "    </tr>\n",
       "    <tr>\n",
       "      <th>3116</th>\n",
       "      <td>2023-04-30 23:08:41.732101</td>\n",
       "      <td>1.682921e+09</td>\n",
       "      <td>15,0.085449,-0.048828,1.002686,0.244141,0.0000...</td>\n",
       "    </tr>\n",
       "  </tbody>\n",
       "</table>\n",
       "</div>"
      ],
      "text/plain": [
       "                        datetime     unix_time  \\\n",
       "3114  2023-04-30 23:08:41.681081  1.682921e+09   \n",
       "3115  2023-04-30 23:08:41.705375  1.682921e+09   \n",
       "3116  2023-04-30 23:08:41.732101  1.682921e+09   \n",
       "\n",
       "                                            sensor_data  \n",
       "3114  10,0.085327,-0.047974,1.003052,0.488281,0.3051...  \n",
       "3115  12,0.084717,-0.048828,1.003418,0.549316,0.0610...  \n",
       "3116  15,0.085449,-0.048828,1.002686,0.244141,0.0000...  "
      ]
     },
     "metadata": {},
     "output_type": "display_data"
    }
   ],
   "source": [
    "display(df.head(3))\n",
    "display(df.tail(3))"
   ]
  },
  {
   "cell_type": "code",
   "execution_count": null,
   "metadata": {},
   "outputs": [],
   "source": []
  },
  {
   "cell_type": "code",
   "execution_count": 6,
   "metadata": {},
   "outputs": [],
   "source": [
    "df['meas_num'] = np.nan\n",
    "\n",
    "df['microp'] = np.nan\n",
    "\n",
    "df['accel_x'] = np.nan\n",
    "df['accel_y'] = np.nan\n",
    "df['accel_z'] = np.nan\n",
    "\n",
    "df['gyro_x'] = np.nan\n",
    "df['gyro_y'] = np.nan\n",
    "df['gyro_z'] = np.nan\n",
    "\n",
    "df['mag_x'] = np.nan\n",
    "df['mag_y'] = np.nan\n",
    "df['mag_z'] = np.nan"
   ]
  },
  {
   "cell_type": "code",
   "execution_count": 7,
   "metadata": {},
   "outputs": [
    {
     "name": "stdout",
     "output_type": "stream",
     "text": [
      "11\n"
     ]
    },
    {
     "data": {
      "text/plain": [
       "['0',\n",
       " '0.000000',\n",
       " '0.000000',\n",
       " '0.000000',\n",
       " '0.000000',\n",
       " '0.000000',\n",
       " '0.000000',\n",
       " '0.000000',\n",
       " '0.000000',\n",
       " '0.000000',\n",
       " '']"
      ]
     },
     "execution_count": 7,
     "metadata": {},
     "output_type": "execute_result"
    }
   ],
   "source": [
    "str_split = []\n",
    "str_split = df['sensor_data'][0].split(\",\")\n",
    "print(len(str_split))\n",
    "str_split"
   ]
  },
  {
   "cell_type": "code",
   "execution_count": 8,
   "metadata": {},
   "outputs": [
    {
     "name": "stdout",
     "output_type": "stream",
     "text": [
      "skipping. split string length is wrong: 11, 10\n"
     ]
    }
   ],
   "source": [
    "# i = 3\n",
    "correct_splitstr_len = 11\n",
    "\n",
    "for i in range(0, df.shape[0]):\n",
    "\n",
    "    str_split = []\n",
    "    str_split = df['sensor_data'][i].split(\",\")\n",
    "\n",
    "    if len(str_split) == correct_splitstr_len:\n",
    "        for meas in str_split:\n",
    "            df['meas_num'][i] = i\n",
    "            \n",
    "            df['microp'][i] = str_split[0]\n",
    "\n",
    "            df['accel_x'][i] = str_split[0]\n",
    "            df['accel_y'][i] = str_split[1]\n",
    "            df['accel_z'][i] = str_split[2]\n",
    "\n",
    "            df['gyro_x'][i] = str_split[3]\n",
    "            df['gyro_y'][i] = str_split[4]\n",
    "            df['gyro_z'][i] = str_split[5]\n",
    "\n",
    "            df['mag_x'][i] = str_split[6]\n",
    "            df['mag_y'][i] = str_split[7]\n",
    "            df['mag_z'][i] = str_split[8]\n",
    "\n",
    "    else:\n",
    "        print(\"skipping. split string length is wrong: \" +\n",
    "              str(correct_splitstr_len) + ', ' +\n",
    "              str(len(str_split)))\n",
    "    \n",
    "df = df[['datetime', 'meas_num', 'microp', 'accel_x', 'accel_y',\n",
    "       'accel_z', 'gyro_x', 'gyro_y', 'gyro_z', 'mag_x', 'mag_y', 'mag_z']]"
   ]
  },
  {
   "cell_type": "code",
   "execution_count": 9,
   "metadata": {},
   "outputs": [],
   "source": [
    "df['mag_x'] = df['mag_x'].astype(float)\n",
    "df['mag_y'] = df['mag_y'].astype(float)\n",
    "df['mag_z'] = df['mag_z'].astype(float)"
   ]
  },
  {
   "cell_type": "code",
   "execution_count": 10,
   "metadata": {},
   "outputs": [],
   "source": [
    "#str_split"
   ]
  },
  {
   "cell_type": "code",
   "execution_count": 11,
   "metadata": {},
   "outputs": [
    {
     "name": "stdout",
     "output_type": "stream",
     "text": [
      "(3117, 12)\n"
     ]
    },
    {
     "data": {
      "text/html": [
       "<div>\n",
       "<style scoped>\n",
       "    .dataframe tbody tr th:only-of-type {\n",
       "        vertical-align: middle;\n",
       "    }\n",
       "\n",
       "    .dataframe tbody tr th {\n",
       "        vertical-align: top;\n",
       "    }\n",
       "\n",
       "    .dataframe thead th {\n",
       "        text-align: right;\n",
       "    }\n",
       "</style>\n",
       "<table border=\"1\" class=\"dataframe\">\n",
       "  <thead>\n",
       "    <tr style=\"text-align: right;\">\n",
       "      <th></th>\n",
       "      <th>datetime</th>\n",
       "      <th>meas_num</th>\n",
       "      <th>microp</th>\n",
       "      <th>accel_x</th>\n",
       "      <th>accel_y</th>\n",
       "      <th>accel_z</th>\n",
       "      <th>gyro_x</th>\n",
       "      <th>gyro_y</th>\n",
       "      <th>gyro_z</th>\n",
       "      <th>mag_x</th>\n",
       "      <th>mag_y</th>\n",
       "      <th>mag_z</th>\n",
       "    </tr>\n",
       "  </thead>\n",
       "  <tbody>\n",
       "    <tr>\n",
       "      <th>0</th>\n",
       "      <td>2023-04-30 23:07:05.236017</td>\n",
       "      <td>0.0</td>\n",
       "      <td>0</td>\n",
       "      <td>0</td>\n",
       "      <td>0.000000</td>\n",
       "      <td>0.000000</td>\n",
       "      <td>0.000000</td>\n",
       "      <td>0.000000</td>\n",
       "      <td>0.000000</td>\n",
       "      <td>0.000000</td>\n",
       "      <td>0.000000</td>\n",
       "      <td>0.000000</td>\n",
       "    </tr>\n",
       "    <tr>\n",
       "      <th>1</th>\n",
       "      <td>2023-04-30 23:07:05.265454</td>\n",
       "      <td>1.0</td>\n",
       "      <td>5</td>\n",
       "      <td>5</td>\n",
       "      <td>0.071777</td>\n",
       "      <td>-0.055786</td>\n",
       "      <td>0.996338</td>\n",
       "      <td>-1.770020</td>\n",
       "      <td>-2.929688</td>\n",
       "      <td>1.159668</td>\n",
       "      <td>9.851074</td>\n",
       "      <td>11.718750</td>\n",
       "    </tr>\n",
       "    <tr>\n",
       "      <th>2</th>\n",
       "      <td>2023-04-30 23:07:05.283522</td>\n",
       "      <td>2.0</td>\n",
       "      <td>11</td>\n",
       "      <td>11</td>\n",
       "      <td>0.073242</td>\n",
       "      <td>-0.054810</td>\n",
       "      <td>0.996094</td>\n",
       "      <td>0.061035</td>\n",
       "      <td>-0.183105</td>\n",
       "      <td>-0.549316</td>\n",
       "      <td>9.680176</td>\n",
       "      <td>11.157227</td>\n",
       "    </tr>\n",
       "    <tr>\n",
       "      <th>3</th>\n",
       "      <td>2023-04-30 23:07:05.298179</td>\n",
       "      <td>3.0</td>\n",
       "      <td>11</td>\n",
       "      <td>11</td>\n",
       "      <td>0.077759</td>\n",
       "      <td>-0.056641</td>\n",
       "      <td>0.987549</td>\n",
       "      <td>0.549316</td>\n",
       "      <td>0.183105</td>\n",
       "      <td>-0.671387</td>\n",
       "      <td>9.680176</td>\n",
       "      <td>11.157227</td>\n",
       "    </tr>\n",
       "    <tr>\n",
       "      <th>4</th>\n",
       "      <td>2023-04-30 23:07:05.309910</td>\n",
       "      <td>4.0</td>\n",
       "      <td>11</td>\n",
       "      <td>11</td>\n",
       "      <td>0.078369</td>\n",
       "      <td>-0.063354</td>\n",
       "      <td>0.988770</td>\n",
       "      <td>0.427246</td>\n",
       "      <td>0.488281</td>\n",
       "      <td>-0.610352</td>\n",
       "      <td>9.680176</td>\n",
       "      <td>11.157227</td>\n",
       "    </tr>\n",
       "  </tbody>\n",
       "</table>\n",
       "</div>"
      ],
      "text/plain": [
       "                     datetime  meas_num microp accel_x   accel_y    accel_z  \\\n",
       "0  2023-04-30 23:07:05.236017       0.0      0       0  0.000000   0.000000   \n",
       "1  2023-04-30 23:07:05.265454       1.0      5       5  0.071777  -0.055786   \n",
       "2  2023-04-30 23:07:05.283522       2.0     11      11  0.073242  -0.054810   \n",
       "3  2023-04-30 23:07:05.298179       3.0     11      11  0.077759  -0.056641   \n",
       "4  2023-04-30 23:07:05.309910       4.0     11      11  0.078369  -0.063354   \n",
       "\n",
       "     gyro_x     gyro_y     gyro_z     mag_x     mag_y      mag_z  \n",
       "0  0.000000   0.000000   0.000000  0.000000  0.000000   0.000000  \n",
       "1  0.996338  -1.770020  -2.929688  1.159668  9.851074  11.718750  \n",
       "2  0.996094   0.061035  -0.183105 -0.549316  9.680176  11.157227  \n",
       "3  0.987549   0.549316   0.183105 -0.671387  9.680176  11.157227  \n",
       "4  0.988770   0.427246   0.488281 -0.610352  9.680176  11.157227  "
      ]
     },
     "metadata": {},
     "output_type": "display_data"
    },
    {
     "data": {
      "text/html": [
       "<div>\n",
       "<style scoped>\n",
       "    .dataframe tbody tr th:only-of-type {\n",
       "        vertical-align: middle;\n",
       "    }\n",
       "\n",
       "    .dataframe tbody tr th {\n",
       "        vertical-align: top;\n",
       "    }\n",
       "\n",
       "    .dataframe thead th {\n",
       "        text-align: right;\n",
       "    }\n",
       "</style>\n",
       "<table border=\"1\" class=\"dataframe\">\n",
       "  <thead>\n",
       "    <tr style=\"text-align: right;\">\n",
       "      <th></th>\n",
       "      <th>datetime</th>\n",
       "      <th>meas_num</th>\n",
       "      <th>microp</th>\n",
       "      <th>accel_x</th>\n",
       "      <th>accel_y</th>\n",
       "      <th>accel_z</th>\n",
       "      <th>gyro_x</th>\n",
       "      <th>gyro_y</th>\n",
       "      <th>gyro_z</th>\n",
       "      <th>mag_x</th>\n",
       "      <th>mag_y</th>\n",
       "      <th>mag_z</th>\n",
       "    </tr>\n",
       "  </thead>\n",
       "  <tbody>\n",
       "    <tr>\n",
       "      <th>3112</th>\n",
       "      <td>2023-04-30 23:08:41.627630</td>\n",
       "      <td>3112.0</td>\n",
       "      <td>9</td>\n",
       "      <td>9</td>\n",
       "      <td>0.084717</td>\n",
       "      <td>-0.048462</td>\n",
       "      <td>1.001221</td>\n",
       "      <td>0.305176</td>\n",
       "      <td>0.427246</td>\n",
       "      <td>-0.549316</td>\n",
       "      <td>10.083008</td>\n",
       "      <td>13.757324</td>\n",
       "    </tr>\n",
       "    <tr>\n",
       "      <th>3113</th>\n",
       "      <td>2023-04-30 23:08:41.651175</td>\n",
       "      <td>3113.0</td>\n",
       "      <td>11</td>\n",
       "      <td>11</td>\n",
       "      <td>0.085083</td>\n",
       "      <td>-0.048706</td>\n",
       "      <td>1.003906</td>\n",
       "      <td>0.732422</td>\n",
       "      <td>0.183105</td>\n",
       "      <td>-0.305176</td>\n",
       "      <td>10.083008</td>\n",
       "      <td>13.757324</td>\n",
       "    </tr>\n",
       "    <tr>\n",
       "      <th>3114</th>\n",
       "      <td>2023-04-30 23:08:41.681081</td>\n",
       "      <td>3114.0</td>\n",
       "      <td>10</td>\n",
       "      <td>10</td>\n",
       "      <td>0.085327</td>\n",
       "      <td>-0.047974</td>\n",
       "      <td>1.003052</td>\n",
       "      <td>0.488281</td>\n",
       "      <td>0.305176</td>\n",
       "      <td>-0.488281</td>\n",
       "      <td>9.814453</td>\n",
       "      <td>13.293457</td>\n",
       "    </tr>\n",
       "    <tr>\n",
       "      <th>3115</th>\n",
       "      <td>2023-04-30 23:08:41.705375</td>\n",
       "      <td>3115.0</td>\n",
       "      <td>12</td>\n",
       "      <td>12</td>\n",
       "      <td>0.084717</td>\n",
       "      <td>-0.048828</td>\n",
       "      <td>1.003418</td>\n",
       "      <td>0.549316</td>\n",
       "      <td>0.061035</td>\n",
       "      <td>-0.488281</td>\n",
       "      <td>9.814453</td>\n",
       "      <td>13.293457</td>\n",
       "    </tr>\n",
       "    <tr>\n",
       "      <th>3116</th>\n",
       "      <td>2023-04-30 23:08:41.732101</td>\n",
       "      <td>3116.0</td>\n",
       "      <td>15</td>\n",
       "      <td>15</td>\n",
       "      <td>0.085449</td>\n",
       "      <td>-0.048828</td>\n",
       "      <td>1.002686</td>\n",
       "      <td>0.244141</td>\n",
       "      <td>0.000000</td>\n",
       "      <td>-0.366211</td>\n",
       "      <td>9.814453</td>\n",
       "      <td>13.293457</td>\n",
       "    </tr>\n",
       "  </tbody>\n",
       "</table>\n",
       "</div>"
      ],
      "text/plain": [
       "                        datetime  meas_num microp accel_x   accel_y  \\\n",
       "3112  2023-04-30 23:08:41.627630    3112.0      9       9  0.084717   \n",
       "3113  2023-04-30 23:08:41.651175    3113.0     11      11  0.085083   \n",
       "3114  2023-04-30 23:08:41.681081    3114.0     10      10  0.085327   \n",
       "3115  2023-04-30 23:08:41.705375    3115.0     12      12  0.084717   \n",
       "3116  2023-04-30 23:08:41.732101    3116.0     15      15  0.085449   \n",
       "\n",
       "        accel_z    gyro_x    gyro_y    gyro_z     mag_x      mag_y      mag_z  \n",
       "3112  -0.048462  1.001221  0.305176  0.427246 -0.549316  10.083008  13.757324  \n",
       "3113  -0.048706  1.003906  0.732422  0.183105 -0.305176  10.083008  13.757324  \n",
       "3114  -0.047974  1.003052  0.488281  0.305176 -0.488281   9.814453  13.293457  \n",
       "3115  -0.048828  1.003418  0.549316  0.061035 -0.488281   9.814453  13.293457  \n",
       "3116  -0.048828  1.002686  0.244141  0.000000 -0.366211   9.814453  13.293457  "
      ]
     },
     "metadata": {},
     "output_type": "display_data"
    }
   ],
   "source": [
    "print(df.shape)\n",
    "display(df.head())\n",
    "display(df.tail())"
   ]
  },
  {
   "cell_type": "code",
   "execution_count": 12,
   "metadata": {},
   "outputs": [
    {
     "data": {
      "text/plain": [
       "numpy.float64"
      ]
     },
     "execution_count": 12,
     "metadata": {},
     "output_type": "execute_result"
    }
   ],
   "source": [
    "df['datetime'] = pd.to_datetime(df['datetime'])\n",
    "type(df['mag_x'][0])"
   ]
  },
  {
   "cell_type": "code",
   "execution_count": 13,
   "metadata": {},
   "outputs": [
    {
     "data": {
      "text/plain": [
       "<Figure size 1440x4320 with 0 Axes>"
      ]
     },
     "metadata": {},
     "output_type": "display_data"
    },
    {
     "data": {
      "image/png": "[encoded data removed]",
      "text/plain": [
       "<Figure size 2000x500 with 3 Axes>"
      ]
     },
     "metadata": {},
     "output_type": "display_data"
    }
   ],
   "source": [
    "plt.figure(figsize=(20,60))\n",
    "\n",
    "plt.style.use('default')\n",
    "plt.style.use('seaborn-whitegrid')\n",
    "plt.style.use('seaborn-poster')\n",
    "\n",
    "# plt.plot(df['datetime'], df['microp'])\n",
    "plt.figure(figsize=(20,5))\n",
    "\n",
    "plt.style.use('default')\n",
    "plt.style.use('seaborn-whitegrid')\n",
    "plt.style.use('seaborn-poster')\n",
    "\n",
    "# plt.plot(df['datetime'], df['microp']);\n",
    "\n",
    "plt.subplot(3,1,1)\n",
    "plt.plot(df['datetime'], df['mag_x'])\n",
    "#plt.plot(df['mag_x'])\n",
    "\n",
    "plt.subplot(3,1,2)\n",
    "plt.plot(df['datetime'], df['mag_y']);\n",
    "#plt.plot(df['mag_y']);\n",
    "\n",
    "plt.subplot(3,1,3)\n",
    "plt.plot(df['datetime'], df['mag_z']);\n",
    "#plt.plot(df['mag_z']);\n"
   ]
  },
  {
   "cell_type": "code",
   "execution_count": 14,
   "metadata": {},
   "outputs": [],
   "source": [
    "# df.to_csv('data_parsed_1_deployed_stateOff.csv')\n",
    "df.to_csv('data_parsed_' + data_file)"
   ]
  },
  {
   "cell_type": "code",
   "execution_count": null,
   "metadata": {},
   "outputs": [],
   "source": []
  }
 ],
 "metadata": {
  "kernelspec": {
   "display_name": "Python 3",
   "language": "python",
   "name": "python3"
  },
  "language_info": {
   "codemirror_mode": {
    "name": "ipython",
    "version": 3
   },
   "file_extension": ".py",
   "mimetype": "text/x-python",
   "name": "python",
   "nbconvert_exporter": "python",
   "pygments_lexer": "ipython3",
   "version": "3.8.5"
  }
 },
 "nbformat": 4,
 "nbformat_minor": 5
}
